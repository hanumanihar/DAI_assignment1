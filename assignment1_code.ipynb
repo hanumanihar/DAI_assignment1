{
 "cells": [
  {
   "cell_type": "markdown",
   "id": "758007c1",
   "metadata": {},
   "source": [
    "# Spotify Tracks Dataset - Data Cleaning & EDA"
   ]
  },
  {
   "cell_type": "code",
   "execution_count": null,
   "id": "227dc45a",
   "metadata": {},
   "outputs": [],
   "source": [
    "\n",
    "import pandas as pd\n",
    "import numpy as np\n",
    "import seaborn as sns\n",
    "import matplotlib.pyplot as plt\n"
   ]
  },
  {
   "cell_type": "code",
   "execution_count": null,
   "id": "563e13a8",
   "metadata": {},
   "outputs": [],
   "source": [
    "\n",
    "# Load dataset\n",
    "df = pd.read_csv(\"spotify_tracks.csv\")\n",
    "\n",
    "# Display first few rows\n",
    "df.head()\n"
   ]
  },
  {
   "cell_type": "code",
   "execution_count": null,
   "id": "181a361c",
   "metadata": {},
   "outputs": [],
   "source": [
    "\n",
    "# Basic Information about the dataset\n",
    "df.info()\n"
   ]
  },
  {
   "cell_type": "code",
   "execution_count": null,
   "id": "498a6a53",
   "metadata": {},
   "outputs": [],
   "source": [
    "\n",
    "# Check for missing values\n",
    "df.isnull().sum()\n"
   ]
  },
  {
   "cell_type": "code",
   "execution_count": null,
   "id": "673590ad",
   "metadata": {},
   "outputs": [],
   "source": [
    "\n",
    "# Fill missing values\n",
    "for col in df.select_dtypes(include=['number']).columns:\n",
    "    df[col].fillna(df[col].median(), inplace=True)\n",
    "\n",
    "for col in df.select_dtypes(include=['object']).columns:\n",
    "    df[col].fillna(df[col].mode()[0], inplace=True)\n",
    "\n",
    "# Check again to confirm\n",
    "df.isnull().sum()\n"
   ]
  },
  {
   "cell_type": "code",
   "execution_count": null,
   "id": "fb7121e6",
   "metadata": {},
   "outputs": [],
   "source": [
    "\n",
    "# Convert categorical text to lowercase and remove extra spaces\n",
    "df = df.apply(lambda x: x.str.lower().str.strip() if x.dtype == \"object\" else x)\n"
   ]
  },
  {
   "cell_type": "code",
   "execution_count": null,
   "id": "8ba5696b",
   "metadata": {},
   "outputs": [],
   "source": [
    "\n",
    "# Handling Outliers using IQR Method\n",
    "Q1 = df.select_dtypes(include=['number']).quantile(0.25)\n",
    "Q3 = df.select_dtypes(include=['number']).quantile(0.75)\n",
    "IQR = Q3 - Q1\n",
    "\n",
    "lower_bound = Q1 - 1.5 * IQR\n",
    "upper_bound = Q3 + 1.5 * IQR\n",
    "\n",
    "# Remove outliers\n",
    "df = df[~((df < lower_bound) | (df > upper_bound)).any(axis=1)]\n"
   ]
  },
  {
   "cell_type": "code",
   "execution_count": null,
   "id": "e4ffb141",
   "metadata": {},
   "outputs": [],
   "source": [
    "\n",
    "# Histogram of Danceability\n",
    "plt.figure(figsize=(6,4))\n",
    "sns.histplot(df[\"danceability\"], bins=30, kde=True)\n",
    "plt.title(\"Distribution of Danceability\")\n",
    "plt.show()\n"
   ]
  },
  {
   "cell_type": "code",
   "execution_count": null,
   "id": "979eb320",
   "metadata": {},
   "outputs": [],
   "source": [
    "\n",
    "# Boxplot of Energy\n",
    "plt.figure(figsize=(6,4))\n",
    "sns.boxplot(x=df[\"energy\"])\n",
    "plt.title(\"Boxplot of Energy\")\n",
    "plt.show()\n"
   ]
  },
  {
   "cell_type": "code",
   "execution_count": null,
   "id": "be2a75bb",
   "metadata": {},
   "outputs": [],
   "source": [
    "\n",
    "# Scatter Plot - Energy vs Loudness\n",
    "plt.figure(figsize=(6,4))\n",
    "sns.scatterplot(x=df[\"energy\"], y=df[\"loudness\"])\n",
    "plt.title(\"Energy vs Loudness\")\n",
    "plt.show()\n"
   ]
  },
  {
   "cell_type": "code",
   "execution_count": null,
   "id": "544d3553",
   "metadata": {},
   "outputs": [],
   "source": [
    "\n",
    "# Save cleaned dataset\n",
    "df.to_csv(\"cleaned_spotify_tracks.csv\", index=False)\n"
   ]
  }
 ],
 "metadata": {
  "kernelspec": {
   "display_name": "Qiskit (stable)",
   "language": "python",
   "name": "qiskit-stable"
  },
  "language_info": {
   "codemirror_mode": {
    "name": "ipython",
    "version": 3
   },
   "file_extension": ".py",
   "mimetype": "text/x-python",
   "name": "python",
   "nbconvert_exporter": "python",
   "pygments_lexer": "ipython3",
   "version": "3.13.2"
  }
 },
 "nbformat": 4,
 "nbformat_minor": 5
}
